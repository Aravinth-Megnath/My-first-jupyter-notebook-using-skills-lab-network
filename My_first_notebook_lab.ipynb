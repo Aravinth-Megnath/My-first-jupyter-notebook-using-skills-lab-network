{
  "metadata": {
    "language_info": {
      "codemirror_mode": {
        "name": "python",
        "version": 3
      },
      "file_extension": ".py",
      "mimetype": "text/x-python",
      "name": "python",
      "nbconvert_exporter": "python",
      "pygments_lexer": "ipython3",
      "version": "3.8"
    },
    "kernelspec": {
      "name": "python",
      "display_name": "Pyolite",
      "language": "python"
    }
  },
  "nbformat_minor": 4,
  "nbformat": 4,
  "cells": [
    {
      "cell_type": "markdown",
      "source": "# My jupyter notebook on IBM Watson studio",
      "metadata": {}
    },
    {
      "cell_type": "markdown",
      "source": "__Aravinth Meganathan__",
      "metadata": {}
    },
    {
      "cell_type": "markdown",
      "source": "I am currently run\\ning my own business as a small pet shop.",
      "metadata": {}
    },
    {
      "cell_type": "markdown",
      "source": "_I am interested in Data science because in my last job as a production engineer in a manufacturing unit where I use the collected data in the production line to find out some interesting details which will be very useful for the production increment. From there I  got inspired about the data.Now, emerging technologies such as AI empower me.I really enjoy  working with problem analysis and very keen to get a solution._",
      "metadata": {}
    },
    {
      "cell_type": "markdown",
      "source": "### Power \nGiven:\n\n    b = base variable\n\n    p = power variable\n\nUsing power variable value we are going to power the base value.\n\nWe have to use ** for this operation.\n\nFormula:\n\n    result = (b**p)",
      "metadata": {}
    },
    {
      "cell_type": "code",
      "source": "b = 10 \np = 4 \nresult = (b**p)\nresult",
      "metadata": {
        "trusted": true
      },
      "execution_count": 2,
      "outputs": [
        {
          "execution_count": 2,
          "output_type": "execute_result",
          "data": {
            "text/plain": "10000"
          },
          "metadata": {}
        }
      ]
    },
    {
      "cell_type": "markdown",
      "source": "Horizontal line:\n ***\n\nBulleted list:\n\n-   \n-  \n-  \n\nNumbered list:\n\n 1. \n\n 2. \n\n 3. \n \n ",
      "metadata": {}
    },
    {
      "cell_type": "code",
      "source": "",
      "metadata": {},
      "execution_count": null,
      "outputs": []
    }
  ]
}